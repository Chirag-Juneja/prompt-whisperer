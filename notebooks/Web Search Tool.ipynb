{
 "cells": [
  {
   "cell_type": "code",
   "execution_count": 1,
   "id": "57c17c75",
   "metadata": {},
   "outputs": [
    {
     "name": "stderr",
     "output_type": "stream",
     "text": [
      "/opt/miniconda3/envs/rag/lib/python3.12/site-packages/tqdm/auto.py:21: TqdmWarning: IProgress not found. Please update jupyter and ipywidgets. See https://ipywidgets.readthedocs.io/en/stable/user_install.html\n",
      "  from .autonotebook import tqdm as notebook_tqdm\n"
     ]
    }
   ],
   "source": [
    "import gradio as gr\n",
    "import ollama\n",
    "from duckduckgo_search import DDGS"
   ]
  },
  {
   "cell_type": "code",
   "execution_count": 2,
   "id": "67f5bfa0",
   "metadata": {},
   "outputs": [],
   "source": [
    "available_models = [model[\"model\"] for model in ollama.list()[\"models\"]]"
   ]
  },
  {
   "cell_type": "code",
   "execution_count": 3,
   "id": "2ac84915",
   "metadata": {},
   "outputs": [],
   "source": [
    "ddgs = DDGS()\n",
    "def search(query):\n",
    "    print(f\"Searching for: {query}\")\n",
    "    response = \"\"\n",
    "    results = ddgs.text(query, max_results=10, region=\"in-en\", safesearch=\"moderate\")\n",
    "    for r in results:\n",
    "        response += r[\"body\"]\n",
    "    return response"
   ]
  },
  {
   "cell_type": "code",
   "execution_count": 4,
   "id": "dd8bc75b",
   "metadata": {},
   "outputs": [],
   "source": [
    "system_message = \"You are a helpful assistant that responds in markdown format.\"\n",
    "system_message += \"Give concise and accurate answers to the user's questions.\"\n",
    "system_message += \"Always be accuracte. If you don't know the anaswer, say 'I don't know'.\"\n",
    "model = \"llama3.2:latest\""
   ]
  },
  {
   "cell_type": "code",
   "execution_count": 5,
   "id": "820de326",
   "metadata": {},
   "outputs": [],
   "source": [
    "search_function = {\n",
    "    \"name\": \"search\",\n",
    "    \"description\": \"Searches the web for information.\",\n",
    "    \"parameters\": {\n",
    "        \"type\": \"object\",\n",
    "        \"properties\": {\n",
    "            \"query\": {\n",
    "                \"type\": \"string\",\n",
    "                \"description\": \"The search query to use.\"\n",
    "            }\n",
    "        },\n",
    "        \"required\": [\"query\"]\n",
    "    }\n",
    "}"
   ]
  },
  {
   "cell_type": "code",
   "execution_count": 6,
   "id": "f61d2372",
   "metadata": {},
   "outputs": [],
   "source": [
    "tools = [{\"type\": \"function\", \"function\": search_function}]"
   ]
  },
  {
   "cell_type": "code",
   "execution_count": 7,
   "id": "fe7a9226",
   "metadata": {},
   "outputs": [],
   "source": [
    "def handle_tool_call(message):\n",
    "    tool_calls = message.get(\"tool_calls\", [])\n",
    "    for tool in tool_calls:\n",
    "        if tool.get(\"function\", {}).get(\"name\") == \"search\":\n",
    "            query = tool[\"function\"][\"arguments\"].get(\"query\", \"\")\n",
    "            result = search(query)\n",
    "    print(f\"Tool call result: {result}\")\n",
    "    return {\"role\": \"tool\", \"name\": \"search\", \"content\": result}   "
   ]
  },
  {
   "cell_type": "code",
   "execution_count": 8,
   "id": "f91edf3d",
   "metadata": {},
   "outputs": [],
   "source": [
    "def chat(message, history):\n",
    "    messages = [{\"role\": \"system\", \"content\": system_message}]\n",
    "    for user_message, assistant_message in history:\n",
    "        messages.append({\"role\": \"user\", \"content\": user_message})\n",
    "        messages.append({\"role\": \"assistant\", \"content\": assistant_message})\n",
    "    messages.append({\"role\": \"user\", \"content\": message})\n",
    "    response = ollama.chat(model=model, messages=messages, tools=tools)\n",
    "\n",
    "    if response[\"message\"].get(\"tool_calls\",[]):\n",
    "        message = response[\"message\"]\n",
    "        tool_response = handle_tool_call(message)\n",
    "        messages.append(message)\n",
    "        messages.append(tool_response)\n",
    "        response = ollama.chat(model=model, messages=messages)\n",
    "    return response[\"message\"][\"content\"]\n"
   ]
  },
  {
   "cell_type": "code",
   "execution_count": null,
   "id": "60f87f8c",
   "metadata": {},
   "outputs": [
    {
     "name": "stderr",
     "output_type": "stream",
     "text": [
      "/opt/miniconda3/envs/rag/lib/python3.12/site-packages/gradio/chat_interface.py:339: UserWarning: The 'tuples' format for chatbot messages is deprecated and will be removed in a future version of Gradio. Please set type='messages' instead, which uses openai-style 'role' and 'content' keys.\n",
      "  self.chatbot = Chatbot(\n"
     ]
    },
    {
     "name": "stdout",
     "output_type": "stream",
     "text": [
      "* Running on local URL:  http://127.0.0.1:7860\n",
      "* To create a public link, set `share=True` in `launch()`.\n"
     ]
    },
    {
     "data": {
      "text/html": [
       "<div><iframe src=\"http://127.0.0.1:7860/\" width=\"100%\" height=\"500\" allow=\"autoplay; camera; microphone; clipboard-read; clipboard-write;\" frameborder=\"0\" allowfullscreen></iframe></div>"
      ],
      "text/plain": [
       "<IPython.core.display.HTML object>"
      ]
     },
     "metadata": {},
     "output_type": "display_data"
    },
    {
     "data": {
      "text/plain": []
     },
     "execution_count": 9,
     "metadata": {},
     "output_type": "execute_result"
    },
    {
     "name": "stdout",
     "output_type": "stream",
     "text": [
      "Searching for: IPL winner\n",
      "Tool call result: Find out the winners, runners-up, venues, and player of the tournament of each Indian Premier League (IPL) season from 2008 to 2023. Chennai Super Kings and Mumbai Indians have won the most titles with five each, while Kolkata Knight Riders have won three.Find out the list of IPL winners and runners up of all seasons, along with the captain, man of the match and player of the series of each edition. Mumbai Indians and Chennai Super Kings are the most successful teams with five titles each.IPL 2025 final prize money: How much money do winner & runner-up win? RCB crowned IPL 2025 champion after 6-run victory over PBKS in the final. IPL 2010: Chennai Super Kings. MS Dhoni's Chennai Super Kings finally broke their title drought in 2010. They had a steady league phase, winning seven games to finish third. In the semi-final, they outplayed Deccan Chargers. The final was a high-pressure clash with Mumbai Indians, and CSK rose to the occasion, winning by 22 runs, thanks largely to ...IPL full list of winners from 2008 to 2024: The 18th season of the Indian Premier League came to a close with Royal Challengers Bengaluru winning their first IPL title after beating Punjab Kings in the IPL 2025 final at the Narendra Modi Stadium in Ahmedabad on Tuesday. The Rajat Patidar-led RCB have had a phenomenal tournament, with the team finishing second in the standings after the league stage before they thrashed the same PBKS side in Qualifier 1 to reach the finals.IPL Latest Winners List, IPL History Full Winners List 2008-2025: Royal Challengers Bengaluru (RCB) won the 2025 title Indian Premier League (IPL) match in a close contest against Punjab Kings (PBKS) in the Narendra Modi Stadium in Ahmedabad, Gujarat, on Tuesday, June 3.Playing under the captaincy of Rajat Patidar, RCB—with Virat Kohli in the lineup—secured the 2025 title match by 6 runs, after dominating much of the season.The 2025 IPL final is set to commence at 7:30 PM IST at the Narendra Modi Stadium in Ahmedabad. Royal Challengers Bengaluru take on Punjab Kings in the summit clash as both teams look to put an ...The listicle chronicles the champions of the Indian T20 League from its inception in 2008 through 2024. It highlights each season's winner, key players, and memorable moments, from Rajasthan Royals' fairytale start in 2008 to Kolkata Knight Riders' dominant third title in 2024. Chennai Super Kings and Mumbai Indians dominate the list with five titles each, led by iconic captains MS Dhoni and Rohit Sharma, respectively. Other notable wins include Gujarat Titans' debut triumph in 2022 ...Find out the list of all IPL winners and runners-up from 2008 to 2024, with details of winning margin and venue. Learn about the most successful teams, the records, and the FAQs on IPL.Chennai have appeared in the IPL final a record 10 times, winning the title 5 times and finishing as runners-up 5 times. Kolkata have reached the final 4 times, winning 3 of those matches. Bangalore have made it to the IPL final 3 times but are yet to secure their first title. Delhi , Punjab, and Rajasthan have each played in the final once. Rajasthan won the inaugural IPL in 2008, while Delhi Capitals and Punjab Kings are still chasing their first championship.Find out which teams have won the most IPL titles and how many times they reached the finals. See the complete list of IPL winners from 2008 to 2025, including the latest champion Kolkata Knight Riders and the debutant Gujarat Titans.\n"
     ]
    }
   ],
   "source": [
    "gr.ChatInterface(fn=chat).launch()"
   ]
  },
  {
   "cell_type": "code",
   "execution_count": null,
   "id": "fa614506",
   "metadata": {},
   "outputs": [],
   "source": []
  }
 ],
 "metadata": {
  "kernelspec": {
   "display_name": "rag",
   "language": "python",
   "name": "python3"
  },
  "language_info": {
   "codemirror_mode": {
    "name": "ipython",
    "version": 3
   },
   "file_extension": ".py",
   "mimetype": "text/x-python",
   "name": "python",
   "nbconvert_exporter": "python",
   "pygments_lexer": "ipython3",
   "version": "3.12.9"
  }
 },
 "nbformat": 4,
 "nbformat_minor": 5
}
