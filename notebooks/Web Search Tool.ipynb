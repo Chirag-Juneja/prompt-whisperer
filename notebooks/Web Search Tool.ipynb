{
 "cells": [
  {
   "cell_type": "code",
   "execution_count": 1,
   "id": "57c17c75",
   "metadata": {},
   "outputs": [
    {
     "name": "stderr",
     "output_type": "stream",
     "text": [
      "/opt/miniconda3/envs/rag/lib/python3.12/site-packages/tqdm/auto.py:21: TqdmWarning: IProgress not found. Please update jupyter and ipywidgets. See https://ipywidgets.readthedocs.io/en/stable/user_install.html\n",
      "  from .autonotebook import tqdm as notebook_tqdm\n"
     ]
    }
   ],
   "source": [
    "import gradio as gr\n",
    "import ollama\n",
    "from duckduckgo_search import DDGS"
   ]
  },
  {
   "cell_type": "code",
   "execution_count": 2,
   "id": "67f5bfa0",
   "metadata": {},
   "outputs": [],
   "source": [
    "available_models = [model[\"model\"] for model in ollama.list()[\"models\"]]"
   ]
  },
  {
   "cell_type": "code",
   "execution_count": 3,
   "id": "2ac84915",
   "metadata": {},
   "outputs": [],
   "source": [
    "ddgs = DDGS()\n",
    "def search(query):\n",
    "    print(f\"Searching for: {query}\")\n",
    "    response = \"\"\n",
    "    results = ddgs.text(query, max_results=3, region=\"in-en\", safesearch=\"moderate\")\n",
    "    for r in results:\n",
    "        response += r[\"body\"]\n",
    "    return response"
   ]
  },
  {
   "cell_type": "code",
   "execution_count": null,
   "id": "dd8bc75b",
   "metadata": {},
   "outputs": [],
   "source": [
    "system_message = \"You are a helpful assistant that responds in markdown format.\"\n",
    "system_message += \"Give concise and accurate answers to the user's questions.\"\n",
    "system_message += \"Always be accuracte. If you don't know the anaswer, say 'I don't know'.\"\n",
    "model = \"llama3.2:latest\""
   ]
  },
  {
   "cell_type": "code",
   "execution_count": 5,
   "id": "820de326",
   "metadata": {},
   "outputs": [],
   "source": [
    "search_function = {\n",
    "    \"name\": \"search\",\n",
    "    \"description\": \"Searches the web for information.\",\n",
    "    \"parameters\": {\n",
    "        \"type\": \"object\",\n",
    "        \"properties\": {\n",
    "            \"query\": {\n",
    "                \"type\": \"string\",\n",
    "                \"description\": \"The search query to use.\"\n",
    "            }\n",
    "        },\n",
    "        \"required\": [\"query\"]\n",
    "    }\n",
    "}"
   ]
  },
  {
   "cell_type": "code",
   "execution_count": 6,
   "id": "f61d2372",
   "metadata": {},
   "outputs": [],
   "source": [
    "tools = [{\"type\": \"function\", \"function\": search_function}]"
   ]
  },
  {
   "cell_type": "code",
   "execution_count": 7,
   "id": "fe7a9226",
   "metadata": {},
   "outputs": [],
   "source": [
    "def handle_tool_call(message):\n",
    "    tool_calls = message.get(\"tool_calls\", [])\n",
    "    for tool in tool_calls:\n",
    "        if tool.get(\"function\", {}).get(\"name\") == \"search\":\n",
    "            query = tool[\"function\"][\"arguments\"].get(\"query\", \"\")\n",
    "            result = search(query)\n",
    "    return {\"role\": \"tool\", \"name\": \"search\", \"content\": result}   "
   ]
  },
  {
   "cell_type": "code",
   "execution_count": 8,
   "id": "f91edf3d",
   "metadata": {},
   "outputs": [],
   "source": [
    "def chat(message, history):\n",
    "    messages = [{\"role\": \"system\", \"content\": system_message}]\n",
    "    for user_message, assistant_message in history:\n",
    "        messages.append({\"role\": \"user\", \"content\": user_message})\n",
    "        messages.append({\"role\": \"assistant\", \"content\": assistant_message})\n",
    "    messages.append({\"role\": \"user\", \"content\": message})\n",
    "    response = ollama.chat(model=model, messages=messages, tools=tools)\n",
    "\n",
    "    if response[\"message\"][\"tool_calls\"]:\n",
    "        message = response[\"message\"]\n",
    "        tool_response = handle_tool_call(message)\n",
    "        messages.append(message)\n",
    "        messages.append(tool_response)\n",
    "        response = ollama.chat(model=model, messages=messages)\n",
    "    return response[\"message\"][\"content\"]\n"
   ]
  },
  {
   "cell_type": "code",
   "execution_count": null,
   "id": "60f87f8c",
   "metadata": {},
   "outputs": [
    {
     "name": "stderr",
     "output_type": "stream",
     "text": [
      "/opt/miniconda3/envs/rag/lib/python3.12/site-packages/gradio/chat_interface.py:339: UserWarning: The 'tuples' format for chatbot messages is deprecated and will be removed in a future version of Gradio. Please set type='messages' instead, which uses openai-style 'role' and 'content' keys.\n",
      "  self.chatbot = Chatbot(\n"
     ]
    },
    {
     "name": "stdout",
     "output_type": "stream",
     "text": [
      "* Running on local URL:  http://127.0.0.1:7860\n",
      "* To create a public link, set `share=True` in `launch()`.\n"
     ]
    },
    {
     "data": {
      "text/html": [
       "<div><iframe src=\"http://127.0.0.1:7860/\" width=\"100%\" height=\"500\" allow=\"autoplay; camera; microphone; clipboard-read; clipboard-write;\" frameborder=\"0\" allowfullscreen></iframe></div>"
      ],
      "text/plain": [
       "<IPython.core.display.HTML object>"
      ]
     },
     "metadata": {},
     "output_type": "display_data"
    },
    {
     "data": {
      "text/plain": []
     },
     "execution_count": 9,
     "metadata": {},
     "output_type": "execute_result"
    },
    {
     "name": "stdout",
     "output_type": "stream",
     "text": [
      "Searching for: flights from Hyderabad to Delhi with price\n",
      "Searching for: flights from Hyderabad to Delhi with timing and price\n"
     ]
    }
   ],
   "source": [
    "gr.ChatInterface(fn=chat).launch()"
   ]
  },
  {
   "cell_type": "code",
   "execution_count": null,
   "id": "fa614506",
   "metadata": {},
   "outputs": [],
   "source": []
  }
 ],
 "metadata": {
  "kernelspec": {
   "display_name": "rag",
   "language": "python",
   "name": "python3"
  },
  "language_info": {
   "codemirror_mode": {
    "name": "ipython",
    "version": 3
   },
   "file_extension": ".py",
   "mimetype": "text/x-python",
   "name": "python",
   "nbconvert_exporter": "python",
   "pygments_lexer": "ipython3",
   "version": "3.12.9"
  }
 },
 "nbformat": 4,
 "nbformat_minor": 5
}
