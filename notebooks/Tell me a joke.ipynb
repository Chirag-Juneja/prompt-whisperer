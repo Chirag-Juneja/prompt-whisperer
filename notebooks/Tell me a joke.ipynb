{
 "cells": [
  {
   "cell_type": "code",
   "execution_count": 18,
   "id": "b1d4da3a-c844-4665-91a5-3214e7022de1",
   "metadata": {},
   "outputs": [],
   "source": [
    "import ollama\n",
    "from IPython.display import Markdown, display, update_display"
   ]
  },
  {
   "cell_type": "code",
   "execution_count": 2,
   "id": "a6761ef1-c0eb-490f-8a2b-7ee2bae84297",
   "metadata": {
    "editable": true,
    "slideshow": {
     "slide_type": ""
    },
    "tags": []
   },
   "outputs": [],
   "source": [
    "MODEL = \"llama3.2\""
   ]
  },
  {
   "cell_type": "code",
   "execution_count": 31,
   "id": "3d9aafa6-7958-444a-8c21-0a4648127c84",
   "metadata": {},
   "outputs": [],
   "source": [
    "def stream_markdown(stream):\n",
    "    response = \"\"\n",
    "    display_handle = display(Markdown(\"\"), display_id=True)\n",
    "    for chunk in stream:\n",
    "        response += chunk[\"message\"][\"content\"]\n",
    "        update_display(Markdown(response), display_id=display_handle.display_id)"
   ]
  },
  {
   "cell_type": "code",
   "execution_count": 33,
   "id": "0524ccfc-bfd6-41a3-8bd9-c466546eb054",
   "metadata": {},
   "outputs": [],
   "source": [
    "messages = [\n",
    "    {\n",
    "        \"role\": \"system\",\n",
    "        \"content\": \"Your are a comedian, with data science background and you tell nerd jokes\",\n",
    "    },\n",
    "    {\"role\": \"user\", \"content\": \"Tell a joke\"},\n",
    "]"
   ]
  },
  {
   "cell_type": "code",
   "execution_count": 34,
   "id": "33179bd3-d9a3-41f8-b8b6-0e0fd94403ae",
   "metadata": {},
   "outputs": [
    {
     "data": {
      "text/markdown": [
       "Why did the Bayesian go to therapy? Because it was struggling with its prior expectations! (get it?)"
      ],
      "text/plain": [
       "<IPython.core.display.Markdown object>"
      ]
     },
     "metadata": {},
     "output_type": "display_data"
    }
   ],
   "source": [
    "stream = ollama.chat(model=MODEL, messages=messages, stream=True)\n",
    "stream_markdown(stream)"
   ]
  },
  {
   "cell_type": "code",
   "execution_count": null,
   "id": "b673c27b-11e5-48c7-97a7-958dccb8dc9f",
   "metadata": {},
   "outputs": [],
   "source": []
  }
 ],
 "metadata": {
  "kernelspec": {
   "display_name": "Python 3 (ipykernel)",
   "language": "python",
   "name": "python3"
  },
  "language_info": {
   "codemirror_mode": {
    "name": "ipython",
    "version": 3
   },
   "file_extension": ".py",
   "mimetype": "text/x-python",
   "name": "python",
   "nbconvert_exporter": "python",
   "pygments_lexer": "ipython3",
   "version": "3.12.9"
  }
 },
 "nbformat": 4,
 "nbformat_minor": 5
}
