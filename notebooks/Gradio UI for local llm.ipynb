{
 "cells": [
  {
   "cell_type": "markdown",
   "id": "751fbf5b-1c87-4d3a-9700-f2d53e12b4eb",
   "metadata": {},
   "source": [
    "# Gradio UI for using local LLMs"
   ]
  },
  {
   "cell_type": "code",
   "execution_count": 1,
   "id": "49f92bbd-b214-4433-a399-2fad687307ce",
   "metadata": {},
   "outputs": [
    {
     "name": "stderr",
     "output_type": "stream",
     "text": [
      "/opt/miniconda3/envs/rag/lib/python3.12/site-packages/tqdm/auto.py:21: TqdmWarning: IProgress not found. Please update jupyter and ipywidgets. See https://ipywidgets.readthedocs.io/en/stable/user_install.html\n",
      "  from .autonotebook import tqdm as notebook_tqdm\n"
     ]
    }
   ],
   "source": [
    "import gradio as gr\n",
    "import ollama"
   ]
  },
  {
   "cell_type": "code",
   "execution_count": 22,
   "id": "ee9c25fc-cdf5-49c8-b02d-b413d2e837bf",
   "metadata": {},
   "outputs": [],
   "source": [
    "MODEL = \"llama3.2\"\n",
    "available_models = [model[\"model\"] for model in ollama.list()[\"models\"]]"
   ]
  },
  {
   "cell_type": "code",
   "execution_count": 3,
   "id": "232308ee-45e4-4532-9231-d4f05ccc40f6",
   "metadata": {},
   "outputs": [],
   "source": [
    "def message(prompt):\n",
    "    messages = [\n",
    "        {\n",
    "            \"role\": \"system\",\n",
    "            \"content\": \"You are a helpful assistant that responds in markdown\",\n",
    "        },\n",
    "        {\"role\": \"user\", \"content\": prompt},\n",
    "    ]\n",
    "    response = ollama.chat(model=MODEL, messages=messages)\n",
    "    return response[\"message\"][\"content\"]"
   ]
  },
  {
   "cell_type": "code",
   "execution_count": 24,
   "id": "f8b80b27-d2eb-4ca2-9771-bb4974bad2ff",
   "metadata": {},
   "outputs": [],
   "source": [
    "def stream_llama(prompt, model):\n",
    "    messages = [\n",
    "        {\n",
    "            \"role\": \"system\",\n",
    "            \"content\": \"You are a helpful assistant that responds in markdown\",\n",
    "        },\n",
    "        {\"role\": \"user\", \"content\": prompt},\n",
    "    ]\n",
    "    stream = ollama.chat(model=model, messages=messages, stream=True)\n",
    "    result = \"\"\n",
    "    for chunk in stream:\n",
    "        result += chunk[\"message\"][\"content\"]\n",
    "        yield result"
   ]
  },
  {
   "cell_type": "code",
   "execution_count": 25,
   "id": "da626816-c5c8-4c10-830f-b2914eea69d9",
   "metadata": {},
   "outputs": [
    {
     "name": "stdout",
     "output_type": "stream",
     "text": [
      "* Running on local URL:  http://127.0.0.1:7866\n",
      "* To create a public link, set `share=True` in `launch()`.\n"
     ]
    },
    {
     "data": {
      "text/html": [
       "<div><iframe src=\"http://127.0.0.1:7866/\" width=\"100%\" height=\"500\" allow=\"autoplay; camera; microphone; clipboard-read; clipboard-write;\" frameborder=\"0\" allowfullscreen></iframe></div>"
      ],
      "text/plain": [
       "<IPython.core.display.HTML object>"
      ]
     },
     "metadata": {},
     "output_type": "display_data"
    },
    {
     "data": {
      "text/plain": []
     },
     "execution_count": 25,
     "metadata": {},
     "output_type": "execute_result"
    }
   ],
   "source": [
    "gr.Interface(\n",
    "    fn=stream_llama,\n",
    "    inputs=[\n",
    "        gr.Textbox(label=\"Message\"),\n",
    "        gr.Dropdown(available_models, label=\"Select Model\"),\n",
    "    ],\n",
    "    outputs=gr.Markdown(label=\"Response\"),\n",
    "    flagging_mode=\"never\",\n",
    ").launch()"
   ]
  },
  {
   "cell_type": "code",
   "execution_count": null,
   "id": "65fd1a1b-bac3-4c16-85a1-757dd785e9a2",
   "metadata": {},
   "outputs": [],
   "source": []
  }
 ],
 "metadata": {
  "kernelspec": {
   "display_name": "Python 3 (ipykernel)",
   "language": "python",
   "name": "python3"
  },
  "language_info": {
   "codemirror_mode": {
    "name": "ipython",
    "version": 3
   },
   "file_extension": ".py",
   "mimetype": "text/x-python",
   "name": "python",
   "nbconvert_exporter": "python",
   "pygments_lexer": "ipython3",
   "version": "3.12.9"
  }
 },
 "nbformat": 4,
 "nbformat_minor": 5
}
