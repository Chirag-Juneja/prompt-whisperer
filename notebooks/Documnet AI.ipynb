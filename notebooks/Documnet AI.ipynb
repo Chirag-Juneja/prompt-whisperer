{
 "cells": [
  {
   "cell_type": "code",
   "execution_count": null,
   "id": "e72d9de2",
   "metadata": {},
   "outputs": [],
   "source": [
    "import logging.config\n",
    "import gradio as gr\n",
    "import numpy as np\n",
    "import os\n",
    "from langchain_ollama import ChatOllama, OllamaEmbeddings\n",
    "from langchain_chroma import Chroma\n",
    "from langchain_core.documents import Document\n",
    "from langchain.memory import ConversationBufferMemory\n",
    "from langchain.chains import ConversationalRetrievalChain\n",
    "from langchain_community.document_loaders import PyPDFLoader\n",
    "from langchain.text_splitter import RecursiveCharacterTextSplitter\n",
    "from sklearn.manifold import TSNE\n",
    "import plotly.graph_objects as go\n",
    "import logging\n",
    "logging.getLogger().setLevel(logging.ERROR)"
   ]
  },
  {
   "cell_type": "code",
   "execution_count": null,
   "id": "892f4405",
   "metadata": {},
   "outputs": [],
   "source": [
    "def chunk(docs):\n",
    "    # Split documents into chunks\n",
    "    text_splitter = RecursiveCharacterTextSplitter(chunk_size=1000, chunk_overlap=200)\n",
    "    chunks = text_splitter.split_documents(docs)\n",
    "    logging.debug(f\"{len(chunks)} chunks created.\")\n",
    "    return chunks\n",
    "\n",
    "def load_file(file_path):\n",
    "    # Load documents\n",
    "    loader = PyPDFLoader(file_path)\n",
    "    docs = loader.load()\n",
    "    logging.debug(f\"{len(docs)} pages loaded.\")\n",
    "    return docs\n",
    "\n",
    "def create_embeddings(chunks):\n",
    "    embeddings = OllamaEmbeddings(model=\"llama3.2\")\n",
    "    # Create Embeddings\n",
    "    db_name=\"vector_db\"\n",
    "    if os.path.exists(db_name):\n",
    "        Chroma(persist_directory=db_name,embedding_function=embeddings).delete_collection()\n",
    "    vectorstore = Chroma.from_documents(documents=chunks,embedding=embeddings, persist_directory=db_name)\n",
    "    return vectorstore\n",
    "\n",
    "def handle_file(file_path):\n",
    "    docs =load_file(file_path)   \n",
    "    chunks = chunk(docs)\n",
    "    vectorstore = create_embeddings(chunks)\n",
    "    return vectorstore\n",
    "vectorstore = handle_file(\"../assets/AOS.pdf\")"
   ]
  },
  {
   "cell_type": "code",
   "execution_count": null,
   "id": "08fe8c84",
   "metadata": {},
   "outputs": [],
   "source": [
    "result = vectorstore._collection.get(include=[\"embeddings\",\"documents\"])\n",
    "documents = result[\"documents\"]\n",
    "vectors = np.array(result[\"embeddings\"])"
   ]
  },
  {
   "cell_type": "code",
   "execution_count": null,
   "id": "e8657086",
   "metadata": {},
   "outputs": [],
   "source": [
    "vectors.shape"
   ]
  },
  {
   "cell_type": "code",
   "execution_count": null,
   "id": "8015713a",
   "metadata": {},
   "outputs": [],
   "source": [
    "model = ChatOllama(model=\"llama3.2\",temperature=0)\n",
    "memory = ConversationBufferMemory(memory_key=\"chat_history\", return_messages=True) \n",
    "retriever = vectorstore.as_retriever(search_kwargs={\"k\":10})\n",
    "conversation_chain = ConversationalRetrievalChain.from_llm(llm=model, retriever=retriever, memory=memory)"
   ]
  },
  {
   "cell_type": "code",
   "execution_count": null,
   "id": "d007d83a",
   "metadata": {},
   "outputs": [],
   "source": [
    "def chat(message, hisotry):\n",
    "    result = conversation_chain.invoke({\"question\":message})\n",
    "    return result[\"answer\"]"
   ]
  },
  {
   "cell_type": "code",
   "execution_count": null,
   "id": "69930daf",
   "metadata": {},
   "outputs": [],
   "source": [
    "view = gr.ChatInterface(chat).launch()"
   ]
  },
  {
   "cell_type": "code",
   "execution_count": null,
   "id": "81703c6f",
   "metadata": {},
   "outputs": [],
   "source": []
  }
 ],
 "metadata": {
  "kernelspec": {
   "display_name": "rag",
   "language": "python",
   "name": "python3"
  },
  "language_info": {
   "codemirror_mode": {
    "name": "ipython",
    "version": 3
   },
   "file_extension": ".py",
   "mimetype": "text/x-python",
   "name": "python",
   "nbconvert_exporter": "python",
   "pygments_lexer": "ipython3",
   "version": "3.12.9"
  }
 },
 "nbformat": 4,
 "nbformat_minor": 5
}
